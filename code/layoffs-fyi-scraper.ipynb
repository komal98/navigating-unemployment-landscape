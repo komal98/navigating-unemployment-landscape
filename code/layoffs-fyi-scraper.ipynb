{
 "cells": [
  {
   "cell_type": "code",
   "execution_count": 1,
   "id": "c43fda27-605f-4a5f-99cb-bb045bacbefc",
   "metadata": {},
   "outputs": [],
   "source": [
    "import requests\n",
    "import pandas as pd\n",
    "import matplotlib.pyplot as plt\n",
    "import time\n",
    "from bs4 import BeautifulSoup\n",
    "from selenium import webdriver\n",
    "from selenium.webdriver.common.by import By\n",
    "from selenium.webdriver.common.keys import Keys\n",
    "from selenium.webdriver.common.action_chains import ActionChains\n",
    "import re\n",
    "import time"
   ]
  },
  {
   "cell_type": "code",
   "execution_count": 2,
   "id": "c170a48c-ccaf-4570-9043-e7c8ca6f19ec",
   "metadata": {},
   "outputs": [],
   "source": [
    "driver = webdriver.Chrome()\n",
    "driver.get('https://airtable.com/app1PaujS9zxVGUZ4/shrqYt5kSqMzHV9R5/tbl8c8kanuNB6bPYr?backgroundColor=green&viewControls=on',)\n",
    "time.sleep(1)"
   ]
  },
  {
   "cell_type": "code",
   "execution_count": 3,
   "id": "af4b2cfe-f71a-4d03-8ada-1723e906b286",
   "metadata": {},
   "outputs": [],
   "source": [
    "scrollbar = \"//*[@id= 'view']/div/div[1]/div[1]/div[3]\"\n",
    "element = driver.find_element(By.XPATH, scrollbar)\n"
   ]
  },
  {
   "cell_type": "code",
   "execution_count": 4,
   "id": "526d1477-f28d-44cc-9930-8f9ad74febe5",
   "metadata": {},
   "outputs": [],
   "source": [
    "leftPane = []\n",
    "rightPane = []\n",
    "\n",
    "for _ in range(240):\n",
    "    start_time = time.time()  # Start time of the loop\n",
    "\n",
    "    # Perform the desired action\n",
    "    ActionChains(driver).click_and_hold(element).move_by_offset(0, 1).perform()\n",
    "    ActionChains(driver).reset_actions()\n",
    "\n",
    "    # Get the page source and parse it\n",
    "    html = driver.page_source\n",
    "    parsed_html = BeautifulSoup(html, \"html.parser\")\n",
    "    \n",
    "    # Append data to the respective lists\n",
    "    left_data = parsed_html.find_all('div', class_='dataRow leftPane rowExpansionEnabled rowSelectionEnabled')\n",
    "    right_data = parsed_html.find_all('div', class_='dataRow rightPane rowExpansionEnabled rowSelectionEnabled')\n",
    "    leftPane.append(left_data)\n",
    "    rightPane.append(right_data)\n",
    "    \n",
    "    # Calculate elapsed time\n",
    "    end_time = time.time()  # End time of the loop\n",
    "    elapsed_time = end_time - start_time  # Time taken for one loop iteration\n",
    "\n",
    "    # If the operation is faster than 1/5 second, pause for the remaining time to comply with the rate limit\n",
    "    if elapsed_time < 1/5:\n",
    "        time.sleep(1/5 - elapsed_time)"
   ]
  },
  {
   "cell_type": "code",
   "execution_count": 5,
   "id": "f3e166a8-a53f-48c3-9afc-1d0604d309fa",
   "metadata": {
    "scrolled": true
   },
   "outputs": [],
   "source": [
    "# Initialize an empty dictionary to store the matches\n",
    "matches = {}\n",
    "\n",
    "# Define the pattern to search for\n",
    "pattern = r'<div class=\"line-height-4 overflow-hidden truncate\">(.*?)<\\/div>'\n",
    "\n",
    "# Loop over each element in leftPane\n",
    "for element in leftPane:\n",
    "    # Loop over each sub-element in the current element\n",
    "    for sub_element in element:\n",
    "        # Convert the sub-element to a string and search for the pattern\n",
    "        match = re.search(pattern, str(sub_element))\n",
    "        \n",
    "        # If a match is found, add it to the dictionary\n",
    "        if match:\n",
    "            # Use a slice of the sub-element as the key and the matched group as the value\n",
    "            key = str(sub_element)[70:100]\n",
    "            value = str(match.group(1))\n",
    "            \n",
    "            matches[key] = value"
   ]
  },
  {
   "cell_type": "code",
   "execution_count": 6,
   "id": "dbed6a0c-cbb1-42b3-b686-1940d4f43d08",
   "metadata": {},
   "outputs": [
    {
     "name": "stdout",
     "output_type": "stream",
     "text": [
      "1521\n"
     ]
    }
   ],
   "source": [
    "data_dict = {}\n",
    "\n",
    "# Define patterns\n",
    "url_pattern = r'<span class=\"url\">(.*?)</span>'\n",
    "common_pattern = r'<div class=\"flex-auto truncate-pre\" title=\"(.*?)\">'\n",
    "pattern = r'<div class=\"flex-auto truncate line-height-4 right-align tabular-nums\" style=\"padding:6px\">(.*?)</div>'\n",
    "date_pattern = r'<div class=\"truncate css-10jy3hn\">(.*?)</div></div></div>'\n",
    "\n",
    "for i, right_pane_row in enumerate(rightPane):\n",
    "    for j, right_pane_item in enumerate(right_pane_row):\n",
    "        right_pane_str = str(right_pane_item)\n",
    "        key = matches.get(right_pane_str[71:101])\n",
    "        \n",
    "        if key:\n",
    "            html = right_pane_str\n",
    "            company_name = matches.get(str(leftPane[i][j])[70:100])\n",
    "            \n",
    "            data_dict[key] = {\n",
    "                'company_name': company_name,\n",
    "                'percentage': '',\n",
    "                'location': '',\n",
    "                'url': '',\n",
    "                'industry': '',\n",
    "                '#layoff': '',\n",
    "                'stage': '',\n",
    "                'date': ''\n",
    "            }\n",
    "            \n",
    "            # Extract URL\n",
    "            url_match = re.search(url_pattern, html)\n",
    "            if url_match:\n",
    "                data_dict[key]['url'] = url_match.group(1)\n",
    "            \n",
    "            # Extract common info\n",
    "            common_match = re.findall(common_pattern, html)\n",
    "            if common_match:\n",
    "                data_dict[key]['location'] = common_match[0]\n",
    "                if len(common_match) == 4:\n",
    "                    data_dict[key]['country'] = common_match[3]\n",
    "                    data_dict[key]['stage'] = common_match[2]\n",
    "                    data_dict[key]['industry'] = common_match[1]\n",
    "                elif len(common_match) == 3:\n",
    "                    data_dict[key]['country'] = common_match[2]\n",
    "                else:\n",
    "                    data_dict[key]['country'] = common_match[4]\n",
    "                    data_dict[key]['industry'] = common_match[2]\n",
    "            \n",
    "            # Extract other info\n",
    "            match = re.findall(pattern, right_pane_str)\n",
    "            if match:\n",
    "                if len(match) == 3:\n",
    "                    data_dict[key]['#layoff'] = match[0]\n",
    "                    data_dict[key]['percentage'] = match[1]\n",
    "                    data_dict[key]['raised'] = match[2]\n",
    "                elif len(match) == 1:\n",
    "                    data_dict[key]['raised'] = match[0]\n",
    "                elif len(match) == 2:\n",
    "                    if '%' in match[0]:\n",
    "                        data_dict[key]['percentage'] = match[0]\n",
    "                        data_dict[key]['raised'] = match[1]\n",
    "                    elif '%' in match[1]:\n",
    "                        data_dict[key]['#layoff'] = match[0]\n",
    "                        data_dict[key]['percentage'] = match[1]\n",
    "                    else:\n",
    "                        data_dict[key]['#layoff'] = match[0]\n",
    "                        data_dict[key]['raised'] = match[1]\n",
    "            \n",
    "            # Extract date\n",
    "            date_match = re.search(date_pattern, html)\n",
    "            if date_match:\n",
    "                data_dict[key]['date'] = date_match.group(1)\n",
    "\n",
    "print(len(data_dict))\n"
   ]
  },
  {
   "cell_type": "code",
   "execution_count": 7,
   "id": "4e3c1c43-942d-4fb8-b779-70fc0e5efe89",
   "metadata": {},
   "outputs": [],
   "source": [
    "# Convert the dictionary to a DataFrame\n",
    "df = pd.DataFrame.from_dict(data_dict, orient='index')\n",
    "df.reset_index(drop=True, inplace=True)\n",
    "# Assuming your DataFrame is named 'df'\n",
    "new_column_names = {\n",
    "    'company_name': 'Company',\n",
    "    'percentage': 'Percentage',\n",
    "    'location': 'Location HQ',\n",
    "    'url': 'URL',\n",
    "    'industry': 'Industry',\n",
    "    '#layoff': '# Laid Off',\n",
    "    'stage': 'Stage',\n",
    "    'date': 'Date',\n",
    "    'country': 'Country',\n",
    "    'raised': '$ Raised (mm)'\n",
    "}\n",
    "\n",
    "df.rename(columns=new_column_names, inplace=True)"
   ]
  },
  {
   "cell_type": "code",
   "execution_count": 9,
   "id": "3c4e9625-b569-4339-ba9a-8f129088fe45",
   "metadata": {},
   "outputs": [],
   "source": [
    "#Extract data in a csv file\n",
    "df.to_csv('../data/layoffs_data.csv')"
   ]
  }
 ],
 "metadata": {
  "kernelspec": {
   "display_name": "Python 3 (ipykernel)",
   "language": "python",
   "name": "python3"
  },
  "language_info": {
   "codemirror_mode": {
    "name": "ipython",
    "version": 3
   },
   "file_extension": ".py",
   "mimetype": "text/x-python",
   "name": "python",
   "nbconvert_exporter": "python",
   "pygments_lexer": "ipython3",
   "version": "3.11.8"
  }
 },
 "nbformat": 4,
 "nbformat_minor": 5
}
