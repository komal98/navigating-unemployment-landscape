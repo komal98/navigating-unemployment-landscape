{
 "cells": [
  {
   "cell_type": "code",
   "execution_count": 1,
   "id": "c43fda27-605f-4a5f-99cb-bb045bacbefc",
   "metadata": {},
   "outputs": [],
   "source": [
    "import requests\n",
    "import pandas as pd\n",
    "import matplotlib.pyplot as plt\n",
    "import time\n",
    "from bs4 import BeautifulSoup\n",
    "from selenium import webdriver\n",
    "from selenium.webdriver.common.by import By\n",
    "from selenium.webdriver.common.keys import Keys\n",
    "from selenium.webdriver.common.action_chains import ActionChains\n",
    "import re"
   ]
  },
  {
   "cell_type": "code",
   "execution_count": 2,
   "id": "c170a48c-ccaf-4570-9043-e7c8ca6f19ec",
   "metadata": {},
   "outputs": [],
   "source": [
    "driver = webdriver.Chrome()\n",
    "driver.get('https://airtable.com/app1PaujS9zxVGUZ4/shrqYt5kSqMzHV9R5/tbl8c8kanuNB6bPYr?backgroundColor=green&viewControls=on',)\n",
    "time.sleep(1)"
   ]
  },
  {
   "cell_type": "code",
   "execution_count": 3,
   "id": "af4b2cfe-f71a-4d03-8ada-1723e906b286",
   "metadata": {},
   "outputs": [],
   "source": [
    "scrollbar = \"//*[@id= 'view']/div/div[1]/div[1]/div[3]\"\n",
    "element = driver.find_element(By.XPATH, scrollbar)\n"
   ]
  },
  {
   "cell_type": "code",
   "execution_count": 4,
   "id": "526d1477-f28d-44cc-9930-8f9ad74febe5",
   "metadata": {},
   "outputs": [],
   "source": [
    "import time\n",
    "\n",
    "leftPane = []\n",
    "rightPane = []\n",
    "\n",
    "i = 0\n",
    "while i < 120:\n",
    "    start_time = time.time()  # Start time of the loop\n",
    "\n",
    "    ActionChains(driver).click_and_hold(element).move_by_offset(0,1).perform()\n",
    "    ActionChains(driver).reset_actions()\n",
    "\n",
    "    html = driver.page_source\n",
    "    parsed_html = BeautifulSoup(html, \"html.parser\")\n",
    "    leftPane.append(parsed_html.find_all('div', class_='dataRow leftPane rowExpansionEnabled rowSelectionEnabled'))\n",
    "    rightPane.append(parsed_html.find_all('div', class_='dataRow rightPane rowExpansionEnabled rowSelectionEnabled'))\n",
    "    \n",
    "    i += 1\n",
    "\n",
    "    end_time = time.time()  # End time of the loop\n",
    "    elapsed_time = end_time - start_time  # Time taken for one loop iteration\n",
    "\n",
    "    # If the operation is faster than 1/5 second, pause for the remaining time to comply with the rate limit\n",
    "    if elapsed_time < 1/5:\n",
    "        time.sleep(1/5 - elapsed_time)\n"
   ]
  },
  {
   "cell_type": "code",
   "execution_count": 5,
   "id": "f3e166a8-a53f-48c3-9afc-1d0604d309fa",
   "metadata": {
    "scrolled": true
   },
   "outputs": [],
   "source": [
    "dictionary = {}\n",
    "for i in range(len(leftPane)):\n",
    "    for j in range(len(leftPane[i])):\n",
    "        pattern = r'<div class=\"line-height-4 overflow-hidden truncate-block-1-line truncate\">(.*?)<\\/div>'\n",
    "        match = re.search(pattern, str(leftPane[i][j]))\n",
    "        if match:\n",
    "            dictionary[str(leftPane[i][j])[70:100]] = str(match.group(1))"
   ]
  },
  {
   "cell_type": "code",
   "execution_count": 6,
   "id": "f26ec997-7abe-4532-80e7-c476e4d6926a",
   "metadata": {
    "scrolled": true
   },
   "outputs": [
    {
     "name": "stdout",
     "output_type": "stream",
     "text": [
      "1513\n"
     ]
    }
   ],
   "source": [
    "data_dict = {}\n",
    "for i in range(len(rightPane)):\n",
    "    for j in range(len(rightPane[i])):\n",
    "        if str(rightPane[i][j])[71:101] in dictionary:\n",
    "            html = str(rightPane[i][j])\n",
    "            key = dictionary[str(rightPane[i][j])[71:101]]\n",
    "            company_name = dictionary[str(leftPane[i][j])[70:100]]\n",
    "            data_dict[key] = {'company_name' : company_name, 'percentage' : '', 'location' : '','url' : '', 'industry' : '', '#layoff' : '', 'stage' : '', 'date' : ''}\n",
    "            url_pattern = r'<span class=\"url\">(.*?)</span>'\n",
    "            url_match = re.search(url_pattern, html)\n",
    "            if url_match:\n",
    "                url = url_match.group(1)\n",
    "                data_dict[key]['url'] = url\n",
    "            # Extract series\n",
    "            common_pattern = r'<div class=\"flex-auto truncate-pre\" title=\"(.*?)\">'\n",
    "            common_match = re.findall(common_pattern, html)\n",
    "            if common_match:\n",
    "                common = [common_match]\n",
    "                data_dict[key]['location'] = common_match[0]\n",
    "                if len(common_match)==4:\n",
    "                    data_dict[key]['country'] = common_match[3]\n",
    "                    data_dict[key]['stage'] = common_match[2]\n",
    "                    data_dict[key]['industry'] = common_match[1]\n",
    "                elif len(common_match)==3:\n",
    "                    data_dict[key]['country'] = common_match[2]\n",
    "                else:\n",
    "                    data_dict[key]['country'] = common_match[4]\n",
    "                    data_dict[key]['industry'] = common_match[2]\n",
    "            pattern = r'<div class=\"flex-auto truncate line-height-4 right-align tabular-nums\" style=\"padding:6px\">(.*?)</div>'\n",
    "            match = re.findall(pattern, str(rightPane[i][j]))\n",
    "            if match:\n",
    "                if len(match) == 3:\n",
    "                    data_dict[key]['#layoff'] = match[0]\n",
    "                    data_dict[key]['percentage'] = match[1]\n",
    "                    data_dict[key]['raised'] = match[2]\n",
    "                elif len(match) == 1:\n",
    "                    data_dict[key]['raised'] = match[0]\n",
    "                elif len(match) == 2:\n",
    "                    if '%' in match[0]:\n",
    "                        data_dict[key]['percentage'] = match[0]\n",
    "                        data_dict[key]['raised'] = match[1]\n",
    "                    elif '%' in match[1]:\n",
    "                        data_dict[key]['#layoff'] = match[0]\n",
    "                        data_dict[key]['percentage'] = match[1]\n",
    "                    else:\n",
    "                        data_dict[key]['#layoff'] = match[0]\n",
    "                        data_dict[key]['raised'] = match[1]\n",
    "            # Extract date\n",
    "            date_pattern = r'<div class=\"truncate css-10jy3hn\">(.*?)</div></div></div>'\n",
    "            date_match = re.search(date_pattern, html)\n",
    "            if date_match:\n",
    "                date = date_match.group(1)\n",
    "                data_dict[key]['date'] = date \n",
    "print(len(data_dict))\n"
   ]
  },
  {
   "cell_type": "code",
   "execution_count": 7,
   "id": "4e3c1c43-942d-4fb8-b779-70fc0e5efe89",
   "metadata": {},
   "outputs": [],
   "source": [
    "# Convert the dictionary to a DataFrame\n",
    "df = pd.DataFrame.from_dict(data_dict, orient='index')"
   ]
  },
  {
   "cell_type": "code",
   "execution_count": 8,
   "id": "3c4e9625-b569-4339-ba9a-8f129088fe45",
   "metadata": {},
   "outputs": [],
   "source": [
    "df.to_csv('../data/layoffs_fyi_dataset.csv')"
   ]
  }
 ],
 "metadata": {
  "kernelspec": {
   "display_name": "Python 3 (ipykernel)",
   "language": "python",
   "name": "python3"
  },
  "language_info": {
   "codemirror_mode": {
    "name": "ipython",
    "version": 3
   },
   "file_extension": ".py",
   "mimetype": "text/x-python",
   "name": "python",
   "nbconvert_exporter": "python",
   "pygments_lexer": "ipython3",
   "version": "3.11.8"
  }
 },
 "nbformat": 4,
 "nbformat_minor": 5
}
